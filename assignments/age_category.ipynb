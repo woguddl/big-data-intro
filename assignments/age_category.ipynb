{
 "cells": [
  {
   "cell_type": "code",
   "execution_count": 27,
   "id": "a9b487ba-5278-4dd3-b361-f5464f3aec2f",
   "metadata": {},
   "outputs": [],
   "source": [
    "from pyspark.sql import SparkSession\n",
    "\n",
    "spark = SparkSession.builder.master('local').appName('udf').getOrCreate()"
   ]
  },
  {
   "cell_type": "code",
   "execution_count": 30,
   "id": "cbfb4bcb-cd5f-4bdc-a34f-9fbace266c1b",
   "metadata": {},
   "outputs": [],
   "source": [
    "def age_category(age):\n",
    "    if age < 35:\n",
    "        return 'young'\n",
    "    elif age >= 35 and age <= 59:\n",
    "        return 'adult'\n",
    "    else:\n",
    "        return 'senior'"
   ]
  },
  {
   "cell_type": "code",
   "execution_count": 31,
   "id": "d2dda46c-8083-4728-a606-da4daab73331",
   "metadata": {},
   "outputs": [
    {
     "data": {
      "text/plain": [
       "<function __main__.age_category(age)>"
      ]
     },
     "execution_count": 31,
     "metadata": {},
     "output_type": "execute_result"
    }
   ],
   "source": [
    "spark.udf.register(\"age_category_udf\", age_category)"
   ]
  },
  {
   "cell_type": "code",
   "execution_count": 33,
   "id": "41d828d0-838a-4f2c-9e21-550e3eed4018",
   "metadata": {},
   "outputs": [],
   "source": [
    "age_category = [\n",
    "    ('이재형', 24), \n",
    "    ('손흥민', 30), \n",
    "    ('조현우', 31), \n",
    "    ('박용택', 44), \n",
    "    ('이병규', 48), \n",
    "    ('이상훈', 52), \n",
    "    ('선동열', 60), \n",
    "    ('김성근', 81), \n",
    "    ('김응용', 83)\n",
    "]"
   ]
  },
  {
   "cell_type": "code",
   "execution_count": 34,
   "id": "b1747864-5a0b-4169-ad2c-766be3f7a5bd",
   "metadata": {},
   "outputs": [],
   "source": [
    "df = spark.createDataFrame(age_category, ['name', 'age'])"
   ]
  },
  {
   "cell_type": "code",
   "execution_count": 35,
   "id": "80e83d15-c54e-4258-9437-0621e5d0f754",
   "metadata": {},
   "outputs": [],
   "source": [
    "df.createOrReplaceTempView(\"people\")"
   ]
  },
  {
   "cell_type": "code",
   "execution_count": 36,
   "id": "265a18fe-0ccb-4630-98b3-74182aa79d95",
   "metadata": {},
   "outputs": [],
   "source": [
    "result = spark.sql(\"SELECT name, age_category_udf(age) AS age_category FROM people\")"
   ]
  },
  {
   "cell_type": "code",
   "execution_count": 37,
   "id": "83c71062-4f35-4322-a059-caf6af4f66c4",
   "metadata": {},
   "outputs": [
    {
     "name": "stdout",
     "output_type": "stream",
     "text": [
      "+------+------------+\n",
      "|  name|age_category|\n",
      "+------+------------+\n",
      "|이재형|       young|\n",
      "|손흥민|       young|\n",
      "|조현우|       young|\n",
      "|박용택|       adult|\n",
      "|이병규|       adult|\n",
      "|이상훈|       adult|\n",
      "|선동열|      senior|\n",
      "|김성근|      senior|\n",
      "|김응용|      senior|\n",
      "+------+------------+\n",
      "\n"
     ]
    }
   ],
   "source": [
    "result.show()"
   ]
  },
  {
   "cell_type": "code",
   "execution_count": 38,
   "id": "f77bdf3b-ba55-4100-9d18-a78ae97a9e16",
   "metadata": {},
   "outputs": [
    {
     "name": "stdout",
     "output_type": "stream",
     "text": [
      "root\n",
      " |-- name: string (nullable = true)\n",
      " |-- age: long (nullable = true)\n",
      "\n"
     ]
    }
   ],
   "source": [
    "df.printSchema()"
   ]
  }
 ],
 "metadata": {
  "kernelspec": {
   "display_name": "Python 3 (ipykernel)",
   "language": "python",
   "name": "python3"
  },
  "language_info": {
   "codemirror_mode": {
    "name": "ipython",
    "version": 3
   },
   "file_extension": ".py",
   "mimetype": "text/x-python",
   "name": "python",
   "nbconvert_exporter": "python",
   "pygments_lexer": "ipython3",
   "version": "3.9.13"
  }
 },
 "nbformat": 4,
 "nbformat_minor": 5
}
